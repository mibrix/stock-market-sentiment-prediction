{
 "cells": [
  {
   "cell_type": "code",
   "execution_count": null,
   "metadata": {},
   "outputs": [],
   "source": [
    "from transformers import AutoModelForSequenceClassification, AutoTokenizer, AutoConfig\n",
    "import numpy as np\n",
    "from scipy.special import softmax\n",
    "import pandas as pd"
   ]
  },
  {
   "cell_type": "code",
   "execution_count": null,
   "metadata": {},
   "outputs": [],
   "source": [
    "# Load your tweets\n",
    "df_twitter = pd.read_csv('data/stock_tweets.csv')"
   ]
  },
  {
   "cell_type": "code",
   "execution_count": null,
   "metadata": {},
   "outputs": [],
   "source": [
    "# Preprocess function to replace usernames and links with placeholders\n",
    "def preprocess(text):\n",
    "    new_text = []\n",
    "    for t in text.split(\" \"):\n",
    "        if t.startswith('@') and len(t) > 1:\n",
    "            t = '@user'\n",
    "        elif t.startswith('http'):\n",
    "            t = 'http'\n",
    "        new_text.append(t)\n",
    "    return \" \".join(new_text)"
   ]
  },
  {
   "cell_type": "code",
   "execution_count": null,
   "metadata": {},
   "outputs": [],
   "source": [
    "MODEL = \"cardiffnlp/twitter-roberta-base-sentiment-latest\"\n",
    "tokenizer = AutoTokenizer.from_pretrained(MODEL)\n",
    "config = AutoConfig.from_pretrained(MODEL)\n",
    "model = AutoModelForSequenceClassification.from_pretrained(MODEL)\n",
    "\n",
    "# Lists to store scores for all tweets\n",
    "negative_scores = []\n",
    "neutral_scores = []\n",
    "positive_scores = []\n",
    "\n",
    "# Process each tweet\n",
    "for tweet in df_twitter['Tweet']:\n",
    "    text = preprocess(tweet)\n",
    "    encoded_input = tokenizer(text, return_tensors='pt')\n",
    "    output = model(**encoded_input)\n",
    "    scores = output.logits[0].detach().numpy()\n",
    "    scores = softmax(scores)\n",
    "\n",
    "    # Map scores to labels\n",
    "    sentiment_score = {config.id2label[i]: float(np.round(score, 4)) for i, score in enumerate(scores)}\n",
    "\n",
    "    negative_scores.append(sentiment_score.get('negative', 0.0))\n",
    "    neutral_scores.append(sentiment_score.get('neutral', 0.0))\n",
    "    positive_scores.append(sentiment_score.get('positive', 0.0))\n",
    "\n",
    "# Create a new DataFrame with sentiment scores\n",
    "df_sentiments = pd.DataFrame({\n",
    "    'negative': negative_scores,\n",
    "    'neutral': neutral_scores,\n",
    "    'positive': positive_scores\n",
    "})\n",
    "\n",
    "# Optional: Combine with original dataframe\n",
    "df_twitter = pd.concat([df_twitter.reset_index(drop=True), df_sentiments], axis=1)\n",
    "\n",
    "# Display the first few rows\n",
    "print(df_twitter.head())"
   ]
  }
 ],
 "metadata": {
  "kernelspec": {
   "display_name": "Python 3",
   "language": "python",
   "name": "python3"
  },
  "language_info": {
   "codemirror_mode": {
    "name": "ipython",
    "version": 3
   },
   "file_extension": ".py",
   "mimetype": "text/x-python",
   "name": "python",
   "nbconvert_exporter": "python",
   "pygments_lexer": "ipython3",
   "version": "3.9.6"
  }
 },
 "nbformat": 4,
 "nbformat_minor": 2
}
